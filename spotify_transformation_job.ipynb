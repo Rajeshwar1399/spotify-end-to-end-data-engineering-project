{
	"cells": [
		{
			"cell_type": "code",
			"execution_count": 1,
			"metadata": {
				"editable": true,
				"trusted": true,
				"vscode": {
					"languageId": "python_glue_session"
				}
			},
			"outputs": [
				{
					"name": "stdout",
					"output_type": "stream",
					"text": [
						"Current idle_timeout is 2880 minutes.\n",
						"idle_timeout has been set to 2880 minutes.\n",
						"Setting Glue version to: 4.0\n",
						"Previous worker type: G.1X\n",
						"Setting new worker type to: G.1X\n",
						"Previous number of workers: 5\n",
						"Setting new number of workers to: 5\n",
						"Trying to create a Glue session for the kernel.\n",
						"Session Type: glueetl\n",
						"Worker Type: G.1X\n",
						"Number of Workers: 5\n",
						"Idle Timeout: 2880\n",
						"Session ID: 16bbf949-ec99-4038-a957-c0813c5a53fd\n",
						"Applying the following default arguments:\n",
						"--glue_kernel_version 1.0.5\n",
						"--enable-glue-datacatalog true\n",
						"Waiting for session 16bbf949-ec99-4038-a957-c0813c5a53fd to get into ready status...\n",
						"Session 16bbf949-ec99-4038-a957-c0813c5a53fd has been created.\n",
						"\n"
					]
				}
			],
			"source": [
				"%idle_timeout 2880\n",
				"%glue_version 4.0\n",
				"%worker_type G.1X\n",
				"%number_of_workers 5\n",
				"\n",
				"import sys\n",
				"from awsglue.transforms import *\n",
				"from awsglue.utils import getResolvedOptions\n",
				"from pyspark.context import SparkContext\n",
				"from awsglue.context import GlueContext\n",
				"from awsglue.job import Job\n",
				"  \n",
				"sc = SparkContext.getOrCreate()\n",
				"glueContext = GlueContext(sc)\n",
				"spark = glueContext.spark_session\n",
				"job = Job(glueContext)"
			]
		},
		{
			"cell_type": "code",
			"execution_count": 97,
			"metadata": {
				"tags": [],
				"trusted": true,
				"vscode": {
					"languageId": "python_glue_session"
				}
			},
			"outputs": [
				{
					"name": "stdout",
					"output_type": "stream",
					"text": [
						"\n"
					]
				}
			],
			"source": [
				"from pyspark.sql.functions import *\n",
				"from datetime import datetime\n",
				"from awsglue.dynamicframe import DynamicFrame"
			]
		},
		{
			"cell_type": "code",
			"execution_count": 2,
			"metadata": {
				"tags": [],
				"trusted": true,
				"vscode": {
					"languageId": "python_glue_session"
				}
			},
			"outputs": [
				{
					"name": "stdout",
					"output_type": "stream",
					"text": [
						"\n"
					]
				}
			],
			"source": [
				"s3_path = \"s3://spotify-etl-project-rajeshwar/raw_data/to_processed/\"\n",
				"source_df = glueContext.create_dynamic_frame_from_options(\n",
				"    connection_type=\"s3\",\n",
				"    connection_options={\"paths\":[s3_path]},\n",
				"    format = \"json\"\n",
				")"
			]
		},
		{
			"cell_type": "code",
			"execution_count": 3,
			"metadata": {
				"tags": [],
				"trusted": true,
				"vscode": {
					"languageId": "python_glue_session"
				}
			},
			"outputs": [
				{
					"name": "stdout",
					"output_type": "stream",
					"text": [
						"<awsglue.dynamicframe.DynamicFrame object at 0x7f52c5cb0220>\n"
					]
				}
			],
			"source": [
				"source_df"
			]
		},
		{
			"cell_type": "code",
			"execution_count": 53,
			"metadata": {
				"tags": [],
				"trusted": true,
				"vscode": {
					"languageId": "python_glue_session"
				}
			},
			"outputs": [
				{
					"name": "stdout",
					"output_type": "stream",
					"text": [
						"\n"
					]
				}
			],
			"source": [
				"spotify_df = source_df.toDF()"
			]
		},
		{
			"cell_type": "code",
			"execution_count": 89,
			"metadata": {
				"tags": [],
				"trusted": true,
				"vscode": {
					"languageId": "python_glue_session"
				}
			},
			"outputs": [
				{
					"name": "stdout",
					"output_type": "stream",
					"text": [
						"\n"
					]
				}
			],
			"source": [
				"##Creating functions\n",
				"\n",
				"def process_albums(df):\n",
				"    df = df.withColumn(\"items\",explode(\"items\")).select(\n",
				"         col(\"items.track.album.id\").alias(\"album_id\"),\n",
				"         col(\"items.track.album.name\").alias(\"album_name\"),\n",
				"         col(\"items.track.album.release_date\").alias(\"album_release_date\"),\n",
				"         col(\"items.track.album.total_tracks\").alias(\"album_total_tracks\"),\n",
				"         col(\"items.track.album.external_urls.spotify\").alias(\"album_url\")).drop_duplicates(['album_id'])\n",
				"    return df\n",
				"\n",
				"\n",
				"def process_artists(df):\n",
				"    #First explode the items to get individual tracks\n",
				"    df_items_exploded = df.select(explode(col(\"items\")).alias(\"item\"))\n",
				"    \n",
				"    # Then, explode the artist array within each item to create a row for each artist\n",
				"    df_artist_exploded = df_items_exploded.select(explode(col(\"item.track.artists\")).alias(\"artist\"))\n",
				"    \n",
				"    # Now, select the artist attributes, ensuring each artist is in its own row\n",
				"    df_artist = df_artist_exploded.select(\n",
				"                col(\"artist.id\").alias(\"artist_id\"),\n",
				"                col(\"artist.name\").alias(\"artist_name\"),\n",
				"                col(\"artist.external_urls.spotify\").alias(\"artist_external_url\")).drop_duplicates(['artist_id'])\n",
				"    \n",
				"    return df_artist\n",
				"\n",
				"\n",
				"def process_songs(df):\n",
				"    # Explode the items array to create a row for each song\n",
				"    df_song_explode = df.select(explode(col(\"items\")).alias(\"item\"))\n",
				"    \n",
				"    # Extract song information from the exploded dataframe\n",
				"    df_songs = df_song_explode.select(\n",
				"               col(\"item.track.id\").alias(\"song_id\"),\n",
				"               col(\"item.track.name\").alias(\"song_name\"),\n",
				"               col(\"item.track.duration_ms\").alias(\"song_duration_ms\"),\n",
				"               col(\"item.track.external_urls.spotify\").alias(\"song_url\"),\n",
				"               col(\"item.track.popularity\").alias(\"song_popularity\"),\n",
				"               col(\"item.added_at\").alias(\"song_added_at\"),\n",
				"               col(\"item.track.album.id\").alias(\"album_id\"),\n",
				"               col(\"item.track.album.artists\")[0][\"id\"].alias(\"artist_id\")).drop_duplicates(['song_id'])\n",
				"    \n",
				"    # Convert string dates in 'song_added' to actual date types\n",
				"    \n",
				"    df_songs = df_songs.withColumn(\"song_added_at\",to_date(col(\"song_added_at\")))\n",
				"    \n",
				"    return df_songs\n",
				"    \n",
				"    \n"
			]
		},
		{
			"cell_type": "code",
			"execution_count": 90,
			"metadata": {
				"tags": [],
				"trusted": true,
				"vscode": {
					"languageId": "python_glue_session"
				}
			},
			"outputs": [
				{
					"name": "stdout",
					"output_type": "stream",
					"text": [
						"+--------------------+--------------------+------------------+------------------+--------------------+\n",
						"|            album_id|          album_name|album_release_date|album_total_tracks|           album_url|\n",
						"+--------------------+--------------------+------------------+------------------+--------------------+\n",
						"|0DLvFVIfwt3OHdK9k...|Where I've Been, ...|        2024-05-31|                12|https://open.spot...|\n",
						"|0EiI8ylL0FmWWpgHV...|The Rise and Fall...|        2023-09-22|                14|https://open.spot...|\n",
						"|0lgs2Sa82lyX89nBU...|      FERXXOCALIPSIS|        2023-12-01|                10|https://open.spot...|\n",
						"|0wCLHkBRKcndhMQQp...|  I Don't Wanna Wait|        2024-04-05|                 2|https://open.spot...|\n",
						"|15XcLhiVMlSOipUdd...|                MUSE|        2024-07-19|                 7|https://open.spot...|\n",
						"+--------------------+--------------------+------------------+------------------+--------------------+\n",
						"only showing top 5 rows\n"
					]
				}
			],
			"source": [
				"album_df = process_albums(spotify_df)\n",
				"album_df.show(5)"
			]
		},
		{
			"cell_type": "code",
			"execution_count": 91,
			"metadata": {
				"tags": [],
				"trusted": true,
				"vscode": {
					"languageId": "python_glue_session"
				}
			},
			"outputs": [
				{
					"name": "stdout",
					"output_type": "stream",
					"text": [
						"+--------------------+---------------+--------------------+\n",
						"|           artist_id|    artist_name| artist_external_url|\n",
						"+--------------------+---------------+--------------------+\n",
						"|06HL4z0CvFAxyc27G...|   Taylor Swift|https://open.spot...|\n",
						"|0PCCGZ0wGLizHt2KZ...|        Artemas|https://open.spot...|\n",
						"|0Y5tJX1MQlPlqiwlO...|   Travis Scott|https://open.spot...|\n",
						"|0du5cEVh5yTK9QJze...|     Bruno Mars|https://open.spot...|\n",
						"|0jPHHnU8GUWEF7rwP...|Jordan Adetunji|https://open.spot...|\n",
						"+--------------------+---------------+--------------------+\n",
						"only showing top 5 rows\n"
					]
				}
			],
			"source": [
				"artist_df = process_artists(spotify_df)\n",
				"artist_df.show(5)"
			]
		},
		{
			"cell_type": "code",
			"execution_count": 92,
			"metadata": {
				"tags": [],
				"trusted": true,
				"vscode": {
					"languageId": "python_glue_session"
				}
			},
			"outputs": [
				{
					"name": "stdout",
					"output_type": "stream",
					"text": [
						"+--------------------+-------------------+----------------+--------------------+---------------+-------------+--------------------+--------------------+\n",
						"|             song_id|          song_name|song_duration_ms|            song_url|song_popularity|song_added_at|            album_id|           artist_id|\n",
						"+--------------------+-------------------+----------------+--------------------+---------------+-------------+--------------------+--------------------+\n",
						"|0OA00aPt3BV10qeMI...|          Big Dawgs|          190666|https://open.spot...|             91|   2024-08-16|6Yw4204wbgmpsGTzj...|4nVa6XlBFlIkF6msW...|\n",
						"|0WbMK4wrZ1wFSty9F...|   Good Luck, Babe!|          218423|https://open.spot...|             96|   2024-08-16|1WAjjRMfZjEXtB0lQ...|7GlBOeep6PqTfFi59...|\n",
						"|0nJW01T7XtvILxQgC...|When I Was Your Man|          213826|https://open.spot...|             88|   2024-08-16|58ufpQsJ1DS5kq4hh...|0du5cEVh5yTK9QJze...|\n",
						"|17phhZDn6oGtzMe56...|       Lose Control|          210688|https://open.spot...|             91|   2024-08-16|7nacKlk586eLRBSIs...|33qOK5uJ8AR2xuQQA...|\n",
						"|19RybK6XDbAVpcdxS...|              Apple|          151739|https://open.spot...|             89|   2024-08-16|2lIZef4lzdvZkiiCz...|25uiPmTg16RbhZWAq...|\n",
						"+--------------------+-------------------+----------------+--------------------+---------------+-------------+--------------------+--------------------+\n",
						"only showing top 5 rows\n"
					]
				}
			],
			"source": [
				"song_df = process_songs(spotify_df)\n",
				"song_df.show(5)"
			]
		},
		{
			"cell_type": "code",
			"execution_count": 99,
			"metadata": {
				"tags": [],
				"trusted": true,
				"vscode": {
					"languageId": "python_glue_session"
				}
			},
			"outputs": [
				{
					"name": "stdout",
					"output_type": "stream",
					"text": [
						"\n"
					]
				}
			],
			"source": [
				"# Write data back to S3\n",
				"\n",
				"def write_to_s3(df,path_suffix,format_type=\"csv\"):\n",
				"    dynamic_frame = DynamicFrame.fromDF(df,glueContext,\"dynamic_frame\")\n",
				"    \n",
				"    glueContext.write_dynamic_frame.from_options(\n",
				"        frame = dynamic_frame,\n",
				"        connection_type = \"s3\",\n",
				"        connection_options = {\"path\":f\"s3://spotify-etl-project-rajeshwar/transform_data/{path_suffix}/\"},\n",
				"        format = format_type\n",
				"        \n",
				"    )"
			]
		},
		{
			"cell_type": "code",
			"execution_count": 100,
			"metadata": {
				"tags": [],
				"trusted": true,
				"vscode": {
					"languageId": "python_glue_session"
				}
			},
			"outputs": [
				{
					"name": "stdout",
					"output_type": "stream",
					"text": [
						"\n"
					]
				}
			],
			"source": [
				"write_to_s3(album_df,\"album_data/album_transformed_{}\".format(datetime.now().strftime(\"%Y-%m-%d\")),'csv')"
			]
		},
		{
			"cell_type": "code",
			"execution_count": 101,
			"metadata": {
				"tags": [],
				"trusted": true,
				"vscode": {
					"languageId": "python_glue_session"
				}
			},
			"outputs": [
				{
					"name": "stdout",
					"output_type": "stream",
					"text": [
						"\n"
					]
				}
			],
			"source": [
				"write_to_s3(artist_df,\"artist_data/artist_transformed_{}\".format(datetime.now().strftime(\"%Y-%m-%d\")),'csv')"
			]
		},
		{
			"cell_type": "code",
			"execution_count": 102,
			"metadata": {
				"tags": [],
				"trusted": true,
				"vscode": {
					"languageId": "python_glue_session"
				}
			},
			"outputs": [
				{
					"name": "stdout",
					"output_type": "stream",
					"text": [
						"\n"
					]
				}
			],
			"source": [
				"write_to_s3(song_df,\"songs_data/song_transformed_{}\".format(datetime.now().strftime(\"%Y-%m-%d\")),'csv')"
			]
		},
		{
			"cell_type": "code",
			"execution_count": null,
			"metadata": {
				"vscode": {
					"languageId": "python_glue_session"
				}
			},
			"outputs": [],
			"source": []
		}
	],
	"metadata": {
		"kernelspec": {
			"display_name": "Glue PySpark",
			"language": "python",
			"name": "glue_pyspark"
		},
		"language_info": {
			"codemirror_mode": {
				"name": "python",
				"version": 3
			},
			"file_extension": ".py",
			"mimetype": "text/x-python",
			"name": "Python_Glue_Session",
			"pygments_lexer": "python3"
		}
	},
	"nbformat": 4,
	"nbformat_minor": 4
}
